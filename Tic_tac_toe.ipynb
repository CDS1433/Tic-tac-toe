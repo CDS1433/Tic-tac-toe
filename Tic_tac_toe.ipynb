{
  "nbformat": 4,
  "nbformat_minor": 0,
  "metadata": {
    "colab": {
      "name": "Tic tac toe.ipynb",
      "provenance": []
    },
    "kernelspec": {
      "name": "python3",
      "display_name": "Python 3"
    },
    "language_info": {
      "name": "python"
    }
  },
  "cells": [
    {
      "cell_type": "code",
      "execution_count": 1,
      "metadata": {
        "colab": {
          "base_uri": "https://localhost:8080/"
        },
        "id": "-pVmVl3A0Jgo",
        "outputId": "d3e04753-f9bc-435f-f7bc-b5a291aec03a"
      },
      "outputs": [
        {
          "output_type": "stream",
          "name": "stdout",
          "text": [
            "\n",
            "  0   1   2\n",
            "    |   |  \n",
            " -----------\n",
            "3   |   |   5\n",
            " -----------\n",
            "    |   |  \n",
            "  6   7   8\n",
            "\n",
            "X to move [0-8] > 0\n",
            "\n",
            "  0   1   2\n",
            "  X |   |  \n",
            " -----------\n",
            "3   |   |   5\n",
            " -----------\n",
            "    |   |  \n",
            "  6   7   8\n",
            "\n",
            "O to move [0-8] > 3\n",
            "\n",
            "  0   1   2\n",
            "  X |   |  \n",
            " -----------\n",
            "3 O |   |   5\n",
            " -----------\n",
            "    |   |  \n",
            "  6   7   8\n",
            "\n",
            "X to move [0-8] > 1\n",
            "\n",
            "  0   1   2\n",
            "  X | X |  \n",
            " -----------\n",
            "3 O |   |   5\n",
            " -----------\n",
            "    |   |  \n",
            "  6   7   8\n",
            "\n",
            "O to move [0-8] > 4\n",
            "\n",
            "  0   1   2\n",
            "  X | X |  \n",
            " -----------\n",
            "3 O | O |   5\n",
            " -----------\n",
            "    |   |  \n",
            "  6   7   8\n",
            "\n",
            "X to move [0-8] > 2\n",
            "\n",
            "  0   1   2\n",
            "  X | X | X\n",
            " -----------\n",
            "3 O | O |   5\n",
            " -----------\n",
            "    |   |  \n",
            "  6   7   8\n",
            "\n",
            "X is the winner!\n"
          ]
        }
      ],
      "source": [
        "\n",
        "squares = [' ']*9\n",
        "players = 'XO'\n",
        "board = '''\n",
        "  0   1   2\n",
        "  {0} | {1} | {2}\n",
        " -----------\n",
        "3 {3} | {4} | {5} 5\n",
        " -----------\n",
        "  {6} | {7} | {8}\n",
        "  6   7   8\n",
        "'''\n",
        "win_conditions = [\n",
        "    (0, 1, 2), (3, 4, 5), (6, 7, 8), # horizontals\n",
        "    (0, 3, 6), (1, 4, 7), (2, 5, 8), # verticals\n",
        "    (0, 4, 8), (2, 4, 6)             # diagonals\n",
        "]\n",
        "\n",
        "def check_win(player):\n",
        "    for a, b, c in win_conditions:\n",
        "        if {squares[a], squares[b], squares[c]} == {player}:\n",
        "            return True\n",
        "\n",
        "while True:\n",
        "    print(board.format(*squares))\n",
        "    if check_win(players[1]):\n",
        "        print(f'{players[1]} is the winner!')\n",
        "        break\n",
        "    if ' ' not in squares:\n",
        "        print('Cats game!')\n",
        "        break\n",
        "    move = input(f'{players[0]} to move [0-8] > ')\n",
        "    if not move.isdigit() or not 0 <= int(move) <= 8 or squares[int(move)] != ' ':\n",
        "        print('Invalid move!')\n",
        "        continue\n",
        "    squares[int(move)], players = players[0], players[::-1]"
      ]
    }
  ]
}